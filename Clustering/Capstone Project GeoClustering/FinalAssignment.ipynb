{
 "cells": [
  {
   "cell_type": "markdown",
   "metadata": {},
   "source": [
    "# Restaurant quality and profile at the top 50 airports in the world"
   ]
  },
  {
   "cell_type": "markdown",
   "metadata": {},
   "source": [
    "## Table of Contents\n",
    "\n",
    "<div class=\"alert alert-block alert-info\" style=\"margin-top: 20px\">\n",
    "\n",
    "<font size = 3>\n",
    "<a href=\"#item0\">Context</a>\n",
    "\n",
    "1. <a href=\"#item1\">Download and Explore Dataset</a>\n",
    "\n",
    "2. <a href=\"#item2\">Explore Top 50 Airports by Passenger Traffic</a>\n",
    "\n",
    "3. <a href=\"#item3\">Analyze the Restaurants at each airport and cluster the airports</a>\n",
    "\n",
    " 3.1. <a href=\"#item31\">Restaurant Quality</a>\n",
    "    \n",
    " 3.2. <a href=\"#item31\">Restaurant Profile</a>\n",
    "\n",
    "4. <a href=\"#item4\">Examine Clusters</a>\n",
    "    \n",
    " 4.1. <a href=\"#item31\">Restaurant Quality</a>\n",
    "    \n",
    " 4.2. <a href=\"#item31\">Restaurant Profile</a>\n",
    "    \n",
    "5. <a href=\"#item5\">Report</a>\n",
    "\n",
    " 5.1. <a href=\"#item31\">Introduction</a>\n",
    "    \n",
    " 5.2. <a href=\"#item31\">Methodology</a>\n",
    "\n",
    " 5.3. <a href=\"#item31\">Results</a>\n",
    "\n",
    " 5.4. <a href=\"#item31\">Discussion</a>\n",
    "    \n",
    " 5.5. <a href=\"#item31\">Conclusion</a>\n",
    "\n",
    "</font>\n",
    "</div>"
   ]
  },
  {
   "cell_type": "markdown",
   "metadata": {},
   "source": [
    "<font size = 5><a href=\"#item0\">Context</a> <br></font>\n",
    "While flying becomes a commodity and passenger traffic rises ever more people spent time at and around big airports. Apart from internal transport infrastruce, connecting public transport, new amenities such as sleep pods, sports etc stil a great opportunity to differentiate are great restaurants, hotels and shopping opportunites. Airport operators need a means to compare themselves with other top airports across the world.\n",
    "The following analysis will provide a starting point by looking at the 50 airports with the largest passenger turnover per year and compare them based on how their restaurants, hotels and shops where rated by passengers. The rating data is supplied by foursquare, the airport location data is supplied by https://openflights.org/data.html and the data for the passenger traffic comes from Wikipedia (https://en.wikipedia.org/wiki/List_of_busiest_airports_by_passenger_traffic). \n",
    "\n"
   ]
  },
  {
   "cell_type": "code",
   "execution_count": 1,
   "metadata": {},
   "outputs": [
    {
     "name": "stdout",
     "output_type": "stream",
     "text": [
      "Libraries imported.\n"
     ]
    }
   ],
   "source": [
    "import numpy as np # library to handle data in a vectorized manner\n",
    "\n",
    "import pandas as pd # library for data analsysis\n",
    "pd.set_option('display.max_columns', None)\n",
    "pd.set_option('display.max_rows', None)\n",
    "\n",
    "import json # library to handle JSON files\n",
    "\n",
    "from geopy.geocoders import Nominatim # convert an address into latitude and longitude values\n",
    "\n",
    "import requests # library to handle requests\n",
    "from pandas.io.json import json_normalize # tranform JSON file into a pandas dataframe\n",
    "\n",
    "# Matplotlib and associated plotting modules\n",
    "import matplotlib.cm as cm\n",
    "import matplotlib.colors as colors\n",
    "\n",
    "# import k-means from clustering stage\n",
    "from sklearn.cluster import KMeans\n",
    "\n",
    "import folium # map rendering library\n",
    "\n",
    "import xlrd\n",
    "\n",
    "print('Libraries imported.')"
   ]
  },
  {
   "cell_type": "markdown",
   "metadata": {},
   "source": [
    "## 1. Download and Explore Dataset"
   ]
  },
  {
   "cell_type": "markdown",
   "metadata": {},
   "source": [
    "#### Source: https://openflights.org/data.html"
   ]
  },
  {
   "cell_type": "code",
   "execution_count": 2,
   "metadata": {},
   "outputs": [
    {
     "data": {
      "text/html": [
       "<div>\n",
       "<style scoped>\n",
       "    .dataframe tbody tr th:only-of-type {\n",
       "        vertical-align: middle;\n",
       "    }\n",
       "\n",
       "    .dataframe tbody tr th {\n",
       "        vertical-align: top;\n",
       "    }\n",
       "\n",
       "    .dataframe thead th {\n",
       "        text-align: right;\n",
       "    }\n",
       "</style>\n",
       "<table border=\"1\" class=\"dataframe\">\n",
       "  <thead>\n",
       "    <tr style=\"text-align: right;\">\n",
       "      <th></th>\n",
       "      <th>id</th>\n",
       "      <th>name</th>\n",
       "      <th>city</th>\n",
       "      <th>country</th>\n",
       "      <th>code</th>\n",
       "      <th>icao</th>\n",
       "      <th>latitude</th>\n",
       "      <th>longitude</th>\n",
       "      <th>altitude</th>\n",
       "      <th>offset</th>\n",
       "      <th>dst</th>\n",
       "      <th>timezone</th>\n",
       "    </tr>\n",
       "  </thead>\n",
       "  <tbody>\n",
       "    <tr>\n",
       "      <th>0</th>\n",
       "      <td>1</td>\n",
       "      <td>Goroka</td>\n",
       "      <td>Goroka</td>\n",
       "      <td>Papua New Guinea</td>\n",
       "      <td>GKA</td>\n",
       "      <td>AYGA</td>\n",
       "      <td>-6.081689</td>\n",
       "      <td>145.391881</td>\n",
       "      <td>5282</td>\n",
       "      <td>10.0</td>\n",
       "      <td>U</td>\n",
       "      <td>Pacific/Port_Moresby</td>\n",
       "    </tr>\n",
       "    <tr>\n",
       "      <th>1</th>\n",
       "      <td>2</td>\n",
       "      <td>Madang</td>\n",
       "      <td>Madang</td>\n",
       "      <td>Papua New Guinea</td>\n",
       "      <td>MAG</td>\n",
       "      <td>AYMD</td>\n",
       "      <td>-5.207083</td>\n",
       "      <td>145.788700</td>\n",
       "      <td>20</td>\n",
       "      <td>10.0</td>\n",
       "      <td>U</td>\n",
       "      <td>Pacific/Port_Moresby</td>\n",
       "    </tr>\n",
       "    <tr>\n",
       "      <th>2</th>\n",
       "      <td>3</td>\n",
       "      <td>Mount Hagen</td>\n",
       "      <td>Mount Hagen</td>\n",
       "      <td>Papua New Guinea</td>\n",
       "      <td>HGU</td>\n",
       "      <td>AYMH</td>\n",
       "      <td>-5.826789</td>\n",
       "      <td>144.295861</td>\n",
       "      <td>5388</td>\n",
       "      <td>10.0</td>\n",
       "      <td>U</td>\n",
       "      <td>Pacific/Port_Moresby</td>\n",
       "    </tr>\n",
       "    <tr>\n",
       "      <th>3</th>\n",
       "      <td>4</td>\n",
       "      <td>Nadzab</td>\n",
       "      <td>Nadzab</td>\n",
       "      <td>Papua New Guinea</td>\n",
       "      <td>LAE</td>\n",
       "      <td>AYNZ</td>\n",
       "      <td>-6.569828</td>\n",
       "      <td>146.726242</td>\n",
       "      <td>239</td>\n",
       "      <td>10.0</td>\n",
       "      <td>U</td>\n",
       "      <td>Pacific/Port_Moresby</td>\n",
       "    </tr>\n",
       "    <tr>\n",
       "      <th>4</th>\n",
       "      <td>5</td>\n",
       "      <td>Port Moresby Jacksons Intl</td>\n",
       "      <td>Port Moresby</td>\n",
       "      <td>Papua New Guinea</td>\n",
       "      <td>POM</td>\n",
       "      <td>AYPY</td>\n",
       "      <td>-9.443383</td>\n",
       "      <td>147.220050</td>\n",
       "      <td>146</td>\n",
       "      <td>10.0</td>\n",
       "      <td>U</td>\n",
       "      <td>Pacific/Port_Moresby</td>\n",
       "    </tr>\n",
       "  </tbody>\n",
       "</table>\n",
       "</div>"
      ],
      "text/plain": [
       "   id                        name          city           country code  icao  \\\n",
       "0   1                      Goroka        Goroka  Papua New Guinea  GKA  AYGA   \n",
       "1   2                      Madang        Madang  Papua New Guinea  MAG  AYMD   \n",
       "2   3                 Mount Hagen   Mount Hagen  Papua New Guinea  HGU  AYMH   \n",
       "3   4                      Nadzab        Nadzab  Papua New Guinea  LAE  AYNZ   \n",
       "4   5  Port Moresby Jacksons Intl  Port Moresby  Papua New Guinea  POM  AYPY   \n",
       "\n",
       "   latitude   longitude  altitude  offset dst              timezone  \n",
       "0 -6.081689  145.391881      5282    10.0   U  Pacific/Port_Moresby  \n",
       "1 -5.207083  145.788700        20    10.0   U  Pacific/Port_Moresby  \n",
       "2 -5.826789  144.295861      5388    10.0   U  Pacific/Port_Moresby  \n",
       "3 -6.569828  146.726242       239    10.0   U  Pacific/Port_Moresby  \n",
       "4 -9.443383  147.220050       146    10.0   U  Pacific/Port_Moresby  "
      ]
     },
     "execution_count": 2,
     "metadata": {},
     "output_type": "execute_result"
    }
   ],
   "source": [
    "airport_data = pd.read_csv(\"airports.csv\")\n",
    "airport_data.head()"
   ]
  },
  {
   "cell_type": "markdown",
   "metadata": {},
   "source": [
    "#### Source: Wikipedia"
   ]
  },
  {
   "cell_type": "code",
   "execution_count": 3,
   "metadata": {},
   "outputs": [
    {
     "data": {
      "text/html": [
       "<div>\n",
       "<style scoped>\n",
       "    .dataframe tbody tr th:only-of-type {\n",
       "        vertical-align: middle;\n",
       "    }\n",
       "\n",
       "    .dataframe tbody tr th {\n",
       "        vertical-align: top;\n",
       "    }\n",
       "\n",
       "    .dataframe thead th {\n",
       "        text-align: right;\n",
       "    }\n",
       "</style>\n",
       "<table border=\"1\" class=\"dataframe\">\n",
       "  <thead>\n",
       "    <tr style=\"text-align: right;\">\n",
       "      <th></th>\n",
       "      <th>rank</th>\n",
       "      <th>name</th>\n",
       "      <th>code</th>\n",
       "      <th>location</th>\n",
       "      <th>country</th>\n",
       "      <th>passengers</th>\n",
       "    </tr>\n",
       "  </thead>\n",
       "  <tbody>\n",
       "    <tr>\n",
       "      <th>0</th>\n",
       "      <td>1</td>\n",
       "      <td>HartsfieldñJackson Atlanta International Airport</td>\n",
       "      <td>ATL/KATL</td>\n",
       "      <td>Atlanta, Georgia</td>\n",
       "      <td>United States</td>\n",
       "      <td>104,171,935</td>\n",
       "    </tr>\n",
       "    <tr>\n",
       "      <th>1</th>\n",
       "      <td>2</td>\n",
       "      <td>Beijing Capital International Airport</td>\n",
       "      <td>PEK/ZBAA</td>\n",
       "      <td>Chaoyang-Shunyi, Beijing</td>\n",
       "      <td>China</td>\n",
       "      <td>94,393,454</td>\n",
       "    </tr>\n",
       "    <tr>\n",
       "      <th>2</th>\n",
       "      <td>3</td>\n",
       "      <td>Dubai International Airport</td>\n",
       "      <td>DXB/OMDB</td>\n",
       "      <td>Garhoud, Dubai</td>\n",
       "      <td>United Arab Emirates</td>\n",
       "      <td>83,654,250</td>\n",
       "    </tr>\n",
       "    <tr>\n",
       "      <th>3</th>\n",
       "      <td>4</td>\n",
       "      <td>Los Angeles International Airport</td>\n",
       "      <td>LAX/KLAX</td>\n",
       "      <td>Los Angeles, California</td>\n",
       "      <td>United States</td>\n",
       "      <td>80,921,527</td>\n",
       "    </tr>\n",
       "    <tr>\n",
       "      <th>4</th>\n",
       "      <td>5</td>\n",
       "      <td>Tokyo International Airport</td>\n",
       "      <td>HND/RJTT</td>\n",
       "      <td>Ota, Tokyo</td>\n",
       "      <td>Japan</td>\n",
       "      <td>79,699,762</td>\n",
       "    </tr>\n",
       "  </tbody>\n",
       "</table>\n",
       "</div>"
      ],
      "text/plain": [
       "   rank                                              name      code  \\\n",
       "0     1  HartsfieldñJackson Atlanta International Airport  ATL/KATL   \n",
       "1     2             Beijing Capital International Airport  PEK/ZBAA   \n",
       "2     3                       Dubai International Airport  DXB/OMDB   \n",
       "3     4                 Los Angeles International Airport  LAX/KLAX   \n",
       "4     5                       Tokyo International Airport  HND/RJTT   \n",
       "\n",
       "                   location               country   passengers  \n",
       "0          Atlanta, Georgia         United States  104,171,935  \n",
       "1  Chaoyang-Shunyi, Beijing                 China   94,393,454  \n",
       "2            Garhoud, Dubai  United Arab Emirates   83,654,250  \n",
       "3   Los Angeles, California         United States   80,921,527  \n",
       "4                Ota, Tokyo                 Japan   79,699,762  "
      ]
     },
     "execution_count": 3,
     "metadata": {},
     "output_type": "execute_result"
    }
   ],
   "source": [
    "top50_airports = pd.read_excel(\"airports_2016.xlsx\")\n",
    "top50_airports.head()"
   ]
  },
  {
   "cell_type": "code",
   "execution_count": 4,
   "metadata": {},
   "outputs": [],
   "source": [
    "def split_code(row):\n",
    "    code = row.split(\"/\")[0]\n",
    "    icao = row.split(\"/\")[1]\n",
    "    return code"
   ]
  },
  {
   "cell_type": "code",
   "execution_count": 5,
   "metadata": {},
   "outputs": [],
   "source": [
    "top50_airports[\"code_new\"] = top50_airports[\"code\"].apply(split_code)"
   ]
  },
  {
   "cell_type": "code",
   "execution_count": 6,
   "metadata": {},
   "outputs": [
    {
     "data": {
      "text/html": [
       "<div>\n",
       "<style scoped>\n",
       "    .dataframe tbody tr th:only-of-type {\n",
       "        vertical-align: middle;\n",
       "    }\n",
       "\n",
       "    .dataframe tbody tr th {\n",
       "        vertical-align: top;\n",
       "    }\n",
       "\n",
       "    .dataframe thead th {\n",
       "        text-align: right;\n",
       "    }\n",
       "</style>\n",
       "<table border=\"1\" class=\"dataframe\">\n",
       "  <thead>\n",
       "    <tr style=\"text-align: right;\">\n",
       "      <th></th>\n",
       "      <th>rank</th>\n",
       "      <th>name</th>\n",
       "      <th>code</th>\n",
       "      <th>location</th>\n",
       "      <th>country</th>\n",
       "      <th>passengers</th>\n",
       "      <th>code_new</th>\n",
       "    </tr>\n",
       "  </thead>\n",
       "  <tbody>\n",
       "    <tr>\n",
       "      <th>0</th>\n",
       "      <td>1</td>\n",
       "      <td>HartsfieldñJackson Atlanta International Airport</td>\n",
       "      <td>ATL/KATL</td>\n",
       "      <td>Atlanta, Georgia</td>\n",
       "      <td>United States</td>\n",
       "      <td>104,171,935</td>\n",
       "      <td>ATL</td>\n",
       "    </tr>\n",
       "    <tr>\n",
       "      <th>1</th>\n",
       "      <td>2</td>\n",
       "      <td>Beijing Capital International Airport</td>\n",
       "      <td>PEK/ZBAA</td>\n",
       "      <td>Chaoyang-Shunyi, Beijing</td>\n",
       "      <td>China</td>\n",
       "      <td>94,393,454</td>\n",
       "      <td>PEK</td>\n",
       "    </tr>\n",
       "    <tr>\n",
       "      <th>2</th>\n",
       "      <td>3</td>\n",
       "      <td>Dubai International Airport</td>\n",
       "      <td>DXB/OMDB</td>\n",
       "      <td>Garhoud, Dubai</td>\n",
       "      <td>United Arab Emirates</td>\n",
       "      <td>83,654,250</td>\n",
       "      <td>DXB</td>\n",
       "    </tr>\n",
       "    <tr>\n",
       "      <th>3</th>\n",
       "      <td>4</td>\n",
       "      <td>Los Angeles International Airport</td>\n",
       "      <td>LAX/KLAX</td>\n",
       "      <td>Los Angeles, California</td>\n",
       "      <td>United States</td>\n",
       "      <td>80,921,527</td>\n",
       "      <td>LAX</td>\n",
       "    </tr>\n",
       "    <tr>\n",
       "      <th>4</th>\n",
       "      <td>5</td>\n",
       "      <td>Tokyo International Airport</td>\n",
       "      <td>HND/RJTT</td>\n",
       "      <td>Ota, Tokyo</td>\n",
       "      <td>Japan</td>\n",
       "      <td>79,699,762</td>\n",
       "      <td>HND</td>\n",
       "    </tr>\n",
       "  </tbody>\n",
       "</table>\n",
       "</div>"
      ],
      "text/plain": [
       "   rank                                              name      code  \\\n",
       "0     1  HartsfieldñJackson Atlanta International Airport  ATL/KATL   \n",
       "1     2             Beijing Capital International Airport  PEK/ZBAA   \n",
       "2     3                       Dubai International Airport  DXB/OMDB   \n",
       "3     4                 Los Angeles International Airport  LAX/KLAX   \n",
       "4     5                       Tokyo International Airport  HND/RJTT   \n",
       "\n",
       "                   location               country   passengers code_new  \n",
       "0          Atlanta, Georgia         United States  104,171,935      ATL  \n",
       "1  Chaoyang-Shunyi, Beijing                 China   94,393,454      PEK  \n",
       "2            Garhoud, Dubai  United Arab Emirates   83,654,250      DXB  \n",
       "3   Los Angeles, California         United States   80,921,527      LAX  \n",
       "4                Ota, Tokyo                 Japan   79,699,762      HND  "
      ]
     },
     "execution_count": 6,
     "metadata": {},
     "output_type": "execute_result"
    }
   ],
   "source": [
    "top50_airports.head()"
   ]
  },
  {
   "cell_type": "code",
   "execution_count": 7,
   "metadata": {},
   "outputs": [],
   "source": [
    "top50_airports.drop(\"code\", axis=1, inplace=True)"
   ]
  },
  {
   "cell_type": "code",
   "execution_count": 8,
   "metadata": {},
   "outputs": [],
   "source": [
    "top50_airports.rename({\"code_new\":\"code\"}, axis=1, inplace=True)"
   ]
  },
  {
   "cell_type": "code",
   "execution_count": 9,
   "metadata": {},
   "outputs": [],
   "source": [
    "my_data = top50_airports.merge(airport_data, how=\"left\", on=\"code\")"
   ]
  },
  {
   "cell_type": "code",
   "execution_count": 10,
   "metadata": {},
   "outputs": [
    {
     "data": {
      "text/html": [
       "<div>\n",
       "<style scoped>\n",
       "    .dataframe tbody tr th:only-of-type {\n",
       "        vertical-align: middle;\n",
       "    }\n",
       "\n",
       "    .dataframe tbody tr th {\n",
       "        vertical-align: top;\n",
       "    }\n",
       "\n",
       "    .dataframe thead th {\n",
       "        text-align: right;\n",
       "    }\n",
       "</style>\n",
       "<table border=\"1\" class=\"dataframe\">\n",
       "  <thead>\n",
       "    <tr style=\"text-align: right;\">\n",
       "      <th></th>\n",
       "      <th>rank</th>\n",
       "      <th>name_x</th>\n",
       "      <th>location</th>\n",
       "      <th>country_x</th>\n",
       "      <th>passengers</th>\n",
       "      <th>code</th>\n",
       "      <th>id</th>\n",
       "      <th>name_y</th>\n",
       "      <th>city</th>\n",
       "      <th>country_y</th>\n",
       "      <th>icao</th>\n",
       "      <th>latitude</th>\n",
       "      <th>longitude</th>\n",
       "      <th>altitude</th>\n",
       "      <th>offset</th>\n",
       "      <th>dst</th>\n",
       "      <th>timezone</th>\n",
       "    </tr>\n",
       "  </thead>\n",
       "  <tbody>\n",
       "    <tr>\n",
       "      <th>0</th>\n",
       "      <td>1</td>\n",
       "      <td>HartsfieldñJackson Atlanta International Airport</td>\n",
       "      <td>Atlanta, Georgia</td>\n",
       "      <td>United States</td>\n",
       "      <td>104,171,935</td>\n",
       "      <td>ATL</td>\n",
       "      <td>3682</td>\n",
       "      <td>Hartsfield Jackson Atlanta Intl</td>\n",
       "      <td>Atlanta</td>\n",
       "      <td>United States</td>\n",
       "      <td>KATL</td>\n",
       "      <td>33.636719</td>\n",
       "      <td>-84.428067</td>\n",
       "      <td>1026</td>\n",
       "      <td>-5.0</td>\n",
       "      <td>A</td>\n",
       "      <td>America/New_York</td>\n",
       "    </tr>\n",
       "    <tr>\n",
       "      <th>1</th>\n",
       "      <td>2</td>\n",
       "      <td>Beijing Capital International Airport</td>\n",
       "      <td>Chaoyang-Shunyi, Beijing</td>\n",
       "      <td>China</td>\n",
       "      <td>94,393,454</td>\n",
       "      <td>PEK</td>\n",
       "      <td>3364</td>\n",
       "      <td>Capital Intl</td>\n",
       "      <td>Beijing</td>\n",
       "      <td>China</td>\n",
       "      <td>ZBAA</td>\n",
       "      <td>40.080111</td>\n",
       "      <td>116.584556</td>\n",
       "      <td>116</td>\n",
       "      <td>8.0</td>\n",
       "      <td>U</td>\n",
       "      <td>Asia/Chongqing</td>\n",
       "    </tr>\n",
       "    <tr>\n",
       "      <th>2</th>\n",
       "      <td>3</td>\n",
       "      <td>Dubai International Airport</td>\n",
       "      <td>Garhoud, Dubai</td>\n",
       "      <td>United Arab Emirates</td>\n",
       "      <td>83,654,250</td>\n",
       "      <td>DXB</td>\n",
       "      <td>2188</td>\n",
       "      <td>Dubai Intl</td>\n",
       "      <td>Dubai</td>\n",
       "      <td>United Arab Emirates</td>\n",
       "      <td>OMDB</td>\n",
       "      <td>25.252778</td>\n",
       "      <td>55.364444</td>\n",
       "      <td>62</td>\n",
       "      <td>4.0</td>\n",
       "      <td>U</td>\n",
       "      <td>Asia/Dubai</td>\n",
       "    </tr>\n",
       "    <tr>\n",
       "      <th>3</th>\n",
       "      <td>4</td>\n",
       "      <td>Los Angeles International Airport</td>\n",
       "      <td>Los Angeles, California</td>\n",
       "      <td>United States</td>\n",
       "      <td>80,921,527</td>\n",
       "      <td>LAX</td>\n",
       "      <td>3484</td>\n",
       "      <td>Los Angeles Intl</td>\n",
       "      <td>Los Angeles</td>\n",
       "      <td>United States</td>\n",
       "      <td>KLAX</td>\n",
       "      <td>33.942536</td>\n",
       "      <td>-118.408075</td>\n",
       "      <td>126</td>\n",
       "      <td>-8.0</td>\n",
       "      <td>A</td>\n",
       "      <td>America/Los_Angeles</td>\n",
       "    </tr>\n",
       "    <tr>\n",
       "      <th>4</th>\n",
       "      <td>5</td>\n",
       "      <td>Tokyo International Airport</td>\n",
       "      <td>Ota, Tokyo</td>\n",
       "      <td>Japan</td>\n",
       "      <td>79,699,762</td>\n",
       "      <td>HND</td>\n",
       "      <td>2359</td>\n",
       "      <td>Tokyo Intl</td>\n",
       "      <td>Tokyo</td>\n",
       "      <td>Japan</td>\n",
       "      <td>RJTT</td>\n",
       "      <td>35.552258</td>\n",
       "      <td>139.779694</td>\n",
       "      <td>35</td>\n",
       "      <td>9.0</td>\n",
       "      <td>U</td>\n",
       "      <td>Asia/Tokyo</td>\n",
       "    </tr>\n",
       "  </tbody>\n",
       "</table>\n",
       "</div>"
      ],
      "text/plain": [
       "   rank                                            name_x  \\\n",
       "0     1  HartsfieldñJackson Atlanta International Airport   \n",
       "1     2             Beijing Capital International Airport   \n",
       "2     3                       Dubai International Airport   \n",
       "3     4                 Los Angeles International Airport   \n",
       "4     5                       Tokyo International Airport   \n",
       "\n",
       "                   location             country_x   passengers code    id  \\\n",
       "0          Atlanta, Georgia         United States  104,171,935  ATL  3682   \n",
       "1  Chaoyang-Shunyi, Beijing                 China   94,393,454  PEK  3364   \n",
       "2            Garhoud, Dubai  United Arab Emirates   83,654,250  DXB  2188   \n",
       "3   Los Angeles, California         United States   80,921,527  LAX  3484   \n",
       "4                Ota, Tokyo                 Japan   79,699,762  HND  2359   \n",
       "\n",
       "                            name_y         city             country_y  icao  \\\n",
       "0  Hartsfield Jackson Atlanta Intl      Atlanta         United States  KATL   \n",
       "1                     Capital Intl      Beijing                 China  ZBAA   \n",
       "2                       Dubai Intl        Dubai  United Arab Emirates  OMDB   \n",
       "3                 Los Angeles Intl  Los Angeles         United States  KLAX   \n",
       "4                       Tokyo Intl        Tokyo                 Japan  RJTT   \n",
       "\n",
       "    latitude   longitude  altitude  offset dst             timezone  \n",
       "0  33.636719  -84.428067      1026    -5.0   A     America/New_York  \n",
       "1  40.080111  116.584556       116     8.0   U       Asia/Chongqing  \n",
       "2  25.252778   55.364444        62     4.0   U           Asia/Dubai  \n",
       "3  33.942536 -118.408075       126    -8.0   A  America/Los_Angeles  \n",
       "4  35.552258  139.779694        35     9.0   U           Asia/Tokyo  "
      ]
     },
     "execution_count": 10,
     "metadata": {},
     "output_type": "execute_result"
    }
   ],
   "source": [
    "my_data.head()"
   ]
  },
  {
   "cell_type": "code",
   "execution_count": 11,
   "metadata": {},
   "outputs": [
    {
     "data": {
      "text/plain": [
       "Index(['rank', 'name_x', 'location', 'country_x', 'passengers', 'code', 'id',\n",
       "       'name_y', 'city', 'country_y', 'icao', 'latitude', 'longitude',\n",
       "       'altitude', 'offset', 'dst', 'timezone'],\n",
       "      dtype='object')"
      ]
     },
     "execution_count": 11,
     "metadata": {},
     "output_type": "execute_result"
    }
   ],
   "source": [
    "my_data.columns"
   ]
  },
  {
   "cell_type": "code",
   "execution_count": 12,
   "metadata": {},
   "outputs": [],
   "source": [
    "my_data.drop(['rank', 'passengers', 'code',\n",
    "       'name_y','country_y', 'icao',\"id\",\n",
    "       'altitude', 'offset', 'dst', 'timezone'], axis=1, inplace=True)"
   ]
  },
  {
   "cell_type": "code",
   "execution_count": 13,
   "metadata": {},
   "outputs": [],
   "source": [
    "my_data.columns = [\"name\", \"location\", \"country\", \"city\", \"latitude\", \"longitude\"]"
   ]
  },
  {
   "cell_type": "markdown",
   "metadata": {},
   "source": [
    "## 2. Explore Top 50 Airports by Passenger Traffic"
   ]
  },
  {
   "cell_type": "code",
   "execution_count": 14,
   "metadata": {},
   "outputs": [
    {
     "data": {
      "text/html": [
       "<div>\n",
       "<style scoped>\n",
       "    .dataframe tbody tr th:only-of-type {\n",
       "        vertical-align: middle;\n",
       "    }\n",
       "\n",
       "    .dataframe tbody tr th {\n",
       "        vertical-align: top;\n",
       "    }\n",
       "\n",
       "    .dataframe thead th {\n",
       "        text-align: right;\n",
       "    }\n",
       "</style>\n",
       "<table border=\"1\" class=\"dataframe\">\n",
       "  <thead>\n",
       "    <tr style=\"text-align: right;\">\n",
       "      <th></th>\n",
       "      <th>name</th>\n",
       "      <th>location</th>\n",
       "      <th>country</th>\n",
       "      <th>city</th>\n",
       "      <th>latitude</th>\n",
       "      <th>longitude</th>\n",
       "    </tr>\n",
       "  </thead>\n",
       "  <tbody>\n",
       "    <tr>\n",
       "      <th>0</th>\n",
       "      <td>HartsfieldñJackson Atlanta International Airport</td>\n",
       "      <td>Atlanta, Georgia</td>\n",
       "      <td>United States</td>\n",
       "      <td>Atlanta</td>\n",
       "      <td>33.636719</td>\n",
       "      <td>-84.428067</td>\n",
       "    </tr>\n",
       "    <tr>\n",
       "      <th>1</th>\n",
       "      <td>Beijing Capital International Airport</td>\n",
       "      <td>Chaoyang-Shunyi, Beijing</td>\n",
       "      <td>China</td>\n",
       "      <td>Beijing</td>\n",
       "      <td>40.080111</td>\n",
       "      <td>116.584556</td>\n",
       "    </tr>\n",
       "    <tr>\n",
       "      <th>2</th>\n",
       "      <td>Dubai International Airport</td>\n",
       "      <td>Garhoud, Dubai</td>\n",
       "      <td>United Arab Emirates</td>\n",
       "      <td>Dubai</td>\n",
       "      <td>25.252778</td>\n",
       "      <td>55.364444</td>\n",
       "    </tr>\n",
       "    <tr>\n",
       "      <th>3</th>\n",
       "      <td>Los Angeles International Airport</td>\n",
       "      <td>Los Angeles, California</td>\n",
       "      <td>United States</td>\n",
       "      <td>Los Angeles</td>\n",
       "      <td>33.942536</td>\n",
       "      <td>-118.408075</td>\n",
       "    </tr>\n",
       "    <tr>\n",
       "      <th>4</th>\n",
       "      <td>Tokyo International Airport</td>\n",
       "      <td>Ota, Tokyo</td>\n",
       "      <td>Japan</td>\n",
       "      <td>Tokyo</td>\n",
       "      <td>35.552258</td>\n",
       "      <td>139.779694</td>\n",
       "    </tr>\n",
       "  </tbody>\n",
       "</table>\n",
       "</div>"
      ],
      "text/plain": [
       "                                               name                  location  \\\n",
       "0  HartsfieldñJackson Atlanta International Airport          Atlanta, Georgia   \n",
       "1             Beijing Capital International Airport  Chaoyang-Shunyi, Beijing   \n",
       "2                       Dubai International Airport            Garhoud, Dubai   \n",
       "3                 Los Angeles International Airport   Los Angeles, California   \n",
       "4                       Tokyo International Airport                Ota, Tokyo   \n",
       "\n",
       "                country         city   latitude   longitude  \n",
       "0         United States      Atlanta  33.636719  -84.428067  \n",
       "1                 China      Beijing  40.080111  116.584556  \n",
       "2  United Arab Emirates        Dubai  25.252778   55.364444  \n",
       "3         United States  Los Angeles  33.942536 -118.408075  \n",
       "4                 Japan        Tokyo  35.552258  139.779694  "
      ]
     },
     "execution_count": 14,
     "metadata": {},
     "output_type": "execute_result"
    }
   ],
   "source": [
    "my_data.head()"
   ]
  },
  {
   "cell_type": "code",
   "execution_count": 16,
   "metadata": {},
   "outputs": [
    {
     "ename": "NameError",
     "evalue": "name 'DivIcon' is not defined",
     "output_type": "error",
     "traceback": [
      "\u001b[0;31m---------------------------------------------------------------------------\u001b[0m",
      "\u001b[0;31mNameError\u001b[0m                                 Traceback (most recent call last)",
      "\u001b[0;32m<ipython-input-16-a8496df4748b>\u001b[0m in \u001b[0;36m<module>\u001b[0;34m()\u001b[0m\n\u001b[1;32m     16\u001b[0m folium.Marker(\n\u001b[1;32m     17\u001b[0m     \u001b[0;34m[\u001b[0m\u001b[0;36m85\u001b[0m\u001b[0;34m,\u001b[0m \u001b[0;34m-\u001b[0m\u001b[0;36m45\u001b[0m\u001b[0;34m]\u001b[0m\u001b[0;34m,\u001b[0m\u001b[0;34m\u001b[0m\u001b[0m\n\u001b[0;32m---> 18\u001b[0;31m     icon=DivIcon(\n\u001b[0m\u001b[1;32m     19\u001b[0m         \u001b[0micon_size\u001b[0m\u001b[0;34m=\u001b[0m\u001b[0;34m(\u001b[0m\u001b[0;36m600\u001b[0m\u001b[0;34m,\u001b[0m\u001b[0;36m200\u001b[0m\u001b[0;34m)\u001b[0m\u001b[0;34m,\u001b[0m\u001b[0;34m\u001b[0m\u001b[0m\n\u001b[1;32m     20\u001b[0m         \u001b[0micon_anchor\u001b[0m\u001b[0;34m=\u001b[0m\u001b[0;34m(\u001b[0m\u001b[0;36m100\u001b[0m\u001b[0;34m,\u001b[0m\u001b[0;36m0\u001b[0m\u001b[0;34m)\u001b[0m\u001b[0;34m,\u001b[0m\u001b[0;34m\u001b[0m\u001b[0m\n",
      "\u001b[0;31mNameError\u001b[0m: name 'DivIcon' is not defined"
     ]
    }
   ],
   "source": [
    "# create map of Manhattan using latitude and longitude values\n",
    "map_top50 = folium.Map(location=[51.509865, -0.118092], zoom_start=2)\n",
    "\n",
    "# add markers to map\n",
    "for lat, lng, label in zip(my_data['latitude'], my_data['longitude'], my_data['name']):\n",
    "    label = folium.Popup(label, parse_html=True)\n",
    "    folium.CircleMarker(\n",
    "        [lat, lng],\n",
    "        radius=3,\n",
    "        popup=label,\n",
    "        color='blue',\n",
    "        fill=True,\n",
    "        fill_color='#3186cc',\n",
    "        fill_opacity=0.7,).add_to(map_top50) \n",
    "\n",
    "folium.Marker(\n",
    "    [85, -45],\n",
    "    icon=DivIcon(\n",
    "        icon_size=(600,200),\n",
    "        icon_anchor=(100,0),\n",
    "        html='<div style=\"font-size: 18pt\">Top 50 Airports by passenger traffic</div>')\n",
    "    ).add_to(map_top50)\n",
    "    \n",
    "map_top50"
   ]
  },
  {
   "cell_type": "markdown",
   "metadata": {},
   "source": [
    "## 3. Analyze the Restaurants at each airport and cluster the airports"
   ]
  },
  {
   "cell_type": "markdown",
   "metadata": {},
   "source": [
    "### 3.1. Restaurant Quality"
   ]
  },
  {
   "cell_type": "code",
   "execution_count": null,
   "metadata": {},
   "outputs": [],
   "source": [
    "CLIENT_ID = 'BMMZILCYQCZJE1KR2SJYMHMFLDBQBMRZOXFRN3C3AARRX113'\n",
    "CLIENT_SECRET= 'C1GY15IRDEV4W0KO2U1FZXMLSE2PH33O50FB1FEVMW0G4BPI'\n",
    "VERSION = '20180604'\n",
    "LIMIT = 100\n",
    "radius = 1000\n",
    "print('Your credentails:')\n",
    "print('CLIENT_ID: ' + CLIENT_ID)\n",
    "print('CLIENT_SECRET:' + CLIENT_SECRET)"
   ]
  },
  {
   "cell_type": "markdown",
   "metadata": {},
   "source": [
    "#### test for one airport"
   ]
  },
  {
   "cell_type": "code",
   "execution_count": null,
   "metadata": {},
   "outputs": [],
   "source": [
    "airport_latitude = my_data.loc[12, 'latitude'] # aiport latitude value\n",
    "airport_longitude = my_data.loc[12, 'longitude'] # airport longitude value\n",
    "\n",
    "airport_name = my_data.loc[12, 'name'] # airport name\n",
    "\n",
    "print('Latitude and longitude values of {} and {}, {}.'.format(airport_latitude, airport_longitude, airport_name))"
   ]
  },
  {
   "cell_type": "code",
   "execution_count": null,
   "metadata": {},
   "outputs": [],
   "source": [
    "temp_lim = 30\n",
    "radius=3000\n",
    "search_term=\"restaurant\"\n",
    "url = 'https://api.foursquare.com/v2/venues/search?&client_id={}&client_secret={}&v={}&ll={},{}&radius={}&limit={}&query={}'.format(\n",
    "    CLIENT_ID, \n",
    "    CLIENT_SECRET, \n",
    "    VERSION, \n",
    "    airport_latitude, \n",
    "    airport_longitude, \n",
    "    radius, \n",
    "    temp_lim,\n",
    "    search_term)\n",
    "url"
   ]
  },
  {
   "cell_type": "code",
   "execution_count": null,
   "metadata": {},
   "outputs": [],
   "source": [
    "results = requests.get(url).json()"
   ]
  },
  {
   "cell_type": "code",
   "execution_count": null,
   "metadata": {},
   "outputs": [],
   "source": [
    "# assign relevant part of JSON to venues\n",
    "venues = results['response']['venues']\n",
    "\n",
    "\n",
    "# tranform venues into a dataframe\n",
    "dataframe = json_normalize(venues)\n",
    "# keep only columns that include venue name, and anything that is associated with location\n",
    "filtered_columns = ['name', 'categories'] + [col for col in dataframe.columns if col.startswith('location.')] + ['id']\n",
    "dataframe_filtered = dataframe.loc[:, filtered_columns]\n",
    "dataframe_filtered.head()"
   ]
  },
  {
   "cell_type": "code",
   "execution_count": null,
   "metadata": {},
   "outputs": [],
   "source": [
    "len(results[\"response\"]['venues'])"
   ]
  },
  {
   "cell_type": "code",
   "execution_count": null,
   "metadata": {},
   "outputs": [],
   "source": [
    "results[\"response\"]['venues'][1]"
   ]
  },
  {
   "cell_type": "code",
   "execution_count": null,
   "metadata": {},
   "outputs": [],
   "source": [
    "# function that extracts the category of the venue\n",
    "def get_category_type(row):\n",
    "    try:\n",
    "        categories_list = row['categories']\n",
    "    except:\n",
    "        categories_list = row['venue.categories']\n",
    "        \n",
    "    if len(categories_list) == 0:\n",
    "        return None\n",
    "    else:\n",
    "        return categories_list[0]['name']\n",
    "\n",
    "# filter the category for each row\n",
    "dataframe_filtered['categories'] = dataframe_filtered.apply(get_category_type, axis=1)\n",
    "\n",
    "# clean column names by keeping only last term\n",
    "dataframe_filtered.columns = [column.split('.')[-1] for column in dataframe_filtered.columns]\n",
    "\n",
    "dataframe_filtered"
   ]
  },
  {
   "cell_type": "code",
   "execution_count": null,
   "metadata": {},
   "outputs": [],
   "source": [
    "venue_id = dataframe_filtered.loc[0, 'id'] # ID of the first venue\n",
    "url = 'https://api.foursquare.com/v2/venues/{}?client_id={}&client_secret={}&v={}'.format(venue_id, CLIENT_ID, CLIENT_SECRET, VERSION)\n",
    "result = requests.get(url).json()"
   ]
  },
  {
   "cell_type": "code",
   "execution_count": null,
   "metadata": {},
   "outputs": [],
   "source": [
    "try:\n",
    "    print(result['response']['venue']['rating'])\n",
    "except:\n",
    "    print('This venue has not been rated yet.')"
   ]
  },
  {
   "cell_type": "markdown",
   "metadata": {},
   "source": [
    "## repeat for all airports"
   ]
  },
  {
   "cell_type": "code",
   "execution_count": null,
   "metadata": {},
   "outputs": [],
   "source": [
    "def getNearbyVenues(names, latitudes, longitudes, radius=12000, LIMIT_to=20, query_term=\"restaurant\"):\n",
    "    \n",
    "    venues_list=[]\n",
    "    for name, lat, lng in zip(names, latitudes, longitudes):\n",
    "        print(name)\n",
    "            \n",
    "        # create the API request URL\n",
    "        url = 'https://api.foursquare.com/v2/venues/search?&client_id={}&client_secret={}&v={}&ll={},{}&radius={}&limit={}&query={}'.format(\n",
    "            CLIENT_ID, \n",
    "            CLIENT_SECRET, \n",
    "            VERSION, \n",
    "            lat, \n",
    "            lng, \n",
    "            radius, \n",
    "            LIMIT_to,\n",
    "            query_term)\n",
    "   \n",
    "        # make the GET request\n",
    "        my_results = requests.get(url).json()[\"response\"][\"venues\"]\n",
    "        #print(my_results[0])\n",
    "        # return only relevant information for each nearby venue\n",
    "        try:\n",
    "            for v in my_results:\n",
    "                venues_list.append([(\n",
    "                    name, \n",
    "                    lat, \n",
    "                    lng, \n",
    "                    v['id'],\n",
    "                    v['name'], \n",
    "                    v['location']['lat'], \n",
    "                    v['location']['lng'],  \n",
    "                    v['categories'][0]['name'])])\n",
    "        except:\n",
    "            pass\n",
    "\n",
    "    nearby_venues = pd.DataFrame([item for venue_list in venues_list for item in venue_list])\n",
    "    nearby_venues.columns = ['airport_name', \n",
    "                  'latitude', \n",
    "                  'longitude',\n",
    "                  'Venue ID',\n",
    "                  'Venue', \n",
    "                  'Venue Latitude', \n",
    "                  'Venue Longitude', \n",
    "                  'Venue Category']            \n",
    "    \n",
    "    return(nearby_venues)"
   ]
  },
  {
   "cell_type": "code",
   "execution_count": null,
   "metadata": {},
   "outputs": [],
   "source": [
    "airport_restaurants = getNearbyVenues(names=my_data['name'],\n",
    "                                   latitudes=my_data['latitude'],\n",
    "                                   longitudes=my_data['longitude']\n",
    "                                  )\n",
    "airport_restaurants.head()"
   ]
  },
  {
   "cell_type": "code",
   "execution_count": null,
   "metadata": {},
   "outputs": [],
   "source": [
    "def get_venue_rating(curr_venue_id):\n",
    "    url = 'https://api.foursquare.com/v2/venues/{}?client_id={}&client_secret={}&v={}'.format(curr_venue_id, CLIENT_ID, CLIENT_SECRET, VERSION)\n",
    "    result = requests.get(url).json()\n",
    "    try:\n",
    "        return result['response']['venue']['rating']\n",
    "    except:\n",
    "        return None"
   ]
  },
  {
   "cell_type": "code",
   "execution_count": null,
   "metadata": {},
   "outputs": [],
   "source": [
    "airport_restaurants[\"rating\"] = airport_restaurants[\"Venue ID\"].apply(get_venue_rating)"
   ]
  },
  {
   "cell_type": "code",
   "execution_count": null,
   "metadata": {},
   "outputs": [],
   "source": [
    "airport_restaurants_stripped = airport_restaurants.drop([\"latitude\",\"longitude\",\"Venue ID\", \"Venue\",\"Venue Latitude\",\"Venue Longitude\"], axis=1)"
   ]
  },
  {
   "cell_type": "code",
   "execution_count": null,
   "metadata": {},
   "outputs": [],
   "source": [
    "airport_restaurants_stripped = airport_restaurants_stripped.dropna()"
   ]
  },
  {
   "cell_type": "code",
   "execution_count": null,
   "metadata": {},
   "outputs": [],
   "source": [
    "airport_restaurants_stripped.head()"
   ]
  },
  {
   "cell_type": "code",
   "execution_count": null,
   "metadata": {},
   "outputs": [],
   "source": [
    "len(set(airport_restaurants_stripped[\"airport_name\"]))"
   ]
  },
  {
   "cell_type": "code",
   "execution_count": null,
   "metadata": {},
   "outputs": [],
   "source": [
    "set(airport_restaurants_stripped[\"Venue Category\"])"
   ]
  },
  {
   "cell_type": "code",
   "execution_count": null,
   "metadata": {},
   "outputs": [],
   "source": [
    "airport_restaurants_stripped.head()"
   ]
  },
  {
   "cell_type": "code",
   "execution_count": null,
   "metadata": {},
   "outputs": [],
   "source": [
    "len(airport_restaurants_stripped)"
   ]
  },
  {
   "cell_type": "code",
   "execution_count": null,
   "metadata": {},
   "outputs": [],
   "source": [
    "restaurant_df = pd.DataFrame()"
   ]
  },
  {
   "cell_type": "code",
   "execution_count": null,
   "metadata": {},
   "outputs": [],
   "source": [
    "for idx, item in enumerate(airport_restaurants_stripped.iterrows()):\n",
    "    restaurant_df.loc[idx, item[1][1]] = float(item[1][2])\n",
    "restaurant_df[\"airport_name\"] = airport_restaurants_stripped[\"airport_name\"]"
   ]
  },
  {
   "cell_type": "code",
   "execution_count": null,
   "metadata": {},
   "outputs": [],
   "source": [
    "restaurant_df.head()"
   ]
  },
  {
   "cell_type": "code",
   "execution_count": null,
   "metadata": {},
   "outputs": [],
   "source": [
    "restaurant_df_grouped = restaurant_df.groupby(\"airport_name\").mean()"
   ]
  },
  {
   "cell_type": "code",
   "execution_count": null,
   "metadata": {},
   "outputs": [],
   "source": [
    "airport_restaurants_stripped.groupby(\"airport_name\").mean().sort_values(by=\"rating\", ascending=False)"
   ]
  },
  {
   "cell_type": "code",
   "execution_count": null,
   "metadata": {},
   "outputs": [],
   "source": [
    "restaurant_df_grouped = restaurant_df_grouped.fillna(0)"
   ]
  },
  {
   "cell_type": "code",
   "execution_count": null,
   "metadata": {},
   "outputs": [],
   "source": [
    "restaurant_df_grouped.head(25)"
   ]
  },
  {
   "cell_type": "code",
   "execution_count": null,
   "metadata": {},
   "outputs": [],
   "source": [
    "# set number of clusters\n",
    "kclusters = 5\n",
    "\n",
    "# run k-means clustering\n",
    "kmeans = KMeans(n_clusters=kclusters, random_state=0).fit(restaurant_df_grouped)\n",
    "\n",
    "# check cluster labels generated for each row in the dataframe\n",
    "set(kmeans.labels_)"
   ]
  },
  {
   "cell_type": "code",
   "execution_count": null,
   "metadata": {},
   "outputs": [],
   "source": [
    "airports_merged = my_data.copy()\n",
    "len(set(restaurant_df_grouped.index))"
   ]
  },
  {
   "cell_type": "code",
   "execution_count": null,
   "metadata": {},
   "outputs": [],
   "source": [
    "num_top_venues = 10\n",
    "\n",
    "indicators = ['st', 'nd', 'rd']\n",
    "\n",
    "# create columns according to number of top venues\n",
    "columns = ['name']\n",
    "for ind in np.arange(num_top_venues):\n",
    "    try:\n",
    "        columns.append('{}{} Best Rated Restaurant Category'.format(ind+1, indicators[ind]))\n",
    "    except:\n",
    "        columns.append('{}th Best Rated Restaurant Category'.format(ind+1))\n",
    "\n",
    "# create a new dataframe\n",
    "restaurant_df_sorted = pd.DataFrame(columns=columns)\n",
    "restaurant_df_sorted['name'] = restaurant_df_grouped.index\n",
    "\n",
    "for ind in np.arange(restaurant_df_grouped.shape[0]):\n",
    "    restaurant_df_sorted.iloc[ind, 1:] = return_most_common_venues(restaurant_df_grouped.iloc[ind, :], num_top_venues)\n",
    "\n",
    "restaurant_df_sorted.head()\n"
   ]
  },
  {
   "cell_type": "code",
   "execution_count": null,
   "metadata": {},
   "outputs": [],
   "source": [
    "restaurant_df_sorted.head(50)"
   ]
  },
  {
   "cell_type": "code",
   "execution_count": null,
   "metadata": {},
   "outputs": [],
   "source": [
    "#merge airport data with most best rated venue(restaurant)\n",
    "\n",
    "airports_merged = airports_merged.join(restaurant_df_sorted.set_index('name'), on='name')\n",
    "\n",
    "try:\n",
    "    airports_merged = airports_merged.drop(\"rating_mean\", 1)\n",
    "except:\n",
    "    pass"
   ]
  },
  {
   "cell_type": "code",
   "execution_count": null,
   "metadata": {},
   "outputs": [],
   "source": [
    "restaurant_df_grouped[\"Cluster Label\"] = kmeans.labels_"
   ]
  },
  {
   "cell_type": "code",
   "execution_count": null,
   "metadata": {},
   "outputs": [],
   "source": [
    "restaurant_df_grouped.head()"
   ]
  },
  {
   "cell_type": "code",
   "execution_count": null,
   "metadata": {},
   "outputs": [],
   "source": [
    "len(kmeans.labels_)"
   ]
  },
  {
   "cell_type": "code",
   "execution_count": null,
   "metadata": {},
   "outputs": [],
   "source": [
    "restaurant_df_grouped.reset_index(level=0, inplace=True)"
   ]
  },
  {
   "cell_type": "code",
   "execution_count": null,
   "metadata": {},
   "outputs": [],
   "source": [
    "airports_merged_wcluster = airports_merged.copy()"
   ]
  },
  {
   "cell_type": "code",
   "execution_count": null,
   "metadata": {},
   "outputs": [],
   "source": [
    "airports_merged_wcluster = airports_merged_wcluster.merge(restaurant_df_grouped, how=\"right\",left_on=\"name\", right_on=\"airport_name\")"
   ]
  },
  {
   "cell_type": "code",
   "execution_count": null,
   "metadata": {},
   "outputs": [],
   "source": [
    "x = np.arange(kclusters)\n",
    "\n",
    "ys = [i+x+(i*x)**2 for i in range(kclusters)]\n",
    "\n",
    "colors_array = cm.rainbow(np.linspace(0, 1, len(ys)))\n",
    "rainbow = [colors.rgb2hex(i) for i in colors_array]"
   ]
  },
  {
   "cell_type": "code",
   "execution_count": 17,
   "metadata": {},
   "outputs": [
    {
     "ename": "NameError",
     "evalue": "name 'kclusters' is not defined",
     "output_type": "error",
     "traceback": [
      "\u001b[0;31m---------------------------------------------------------------------------\u001b[0m",
      "\u001b[0;31mNameError\u001b[0m                                 Traceback (most recent call last)",
      "\u001b[0;32m<ipython-input-17-2019c1f4cfc5>\u001b[0m in \u001b[0;36m<module>\u001b[0;34m()\u001b[0m\n\u001b[1;32m      3\u001b[0m \u001b[0;34m\u001b[0m\u001b[0m\n\u001b[1;32m      4\u001b[0m \u001b[0;31m# set color scheme for the clusters\u001b[0m\u001b[0;34m\u001b[0m\u001b[0;34m\u001b[0m\u001b[0m\n\u001b[0;32m----> 5\u001b[0;31m \u001b[0mx\u001b[0m \u001b[0;34m=\u001b[0m \u001b[0mnp\u001b[0m\u001b[0;34m.\u001b[0m\u001b[0marange\u001b[0m\u001b[0;34m(\u001b[0m\u001b[0mkclusters\u001b[0m\u001b[0;34m)\u001b[0m\u001b[0;34m\u001b[0m\u001b[0m\n\u001b[0m\u001b[1;32m      6\u001b[0m \u001b[0mys\u001b[0m \u001b[0;34m=\u001b[0m \u001b[0;34m[\u001b[0m\u001b[0mi\u001b[0m\u001b[0;34m+\u001b[0m\u001b[0mx\u001b[0m\u001b[0;34m+\u001b[0m\u001b[0;34m(\u001b[0m\u001b[0mi\u001b[0m\u001b[0;34m*\u001b[0m\u001b[0mx\u001b[0m\u001b[0;34m)\u001b[0m\u001b[0;34m**\u001b[0m\u001b[0;36m2\u001b[0m \u001b[0;32mfor\u001b[0m \u001b[0mi\u001b[0m \u001b[0;32min\u001b[0m \u001b[0mrange\u001b[0m\u001b[0;34m(\u001b[0m\u001b[0mkclusters\u001b[0m\u001b[0;34m)\u001b[0m\u001b[0;34m]\u001b[0m\u001b[0;34m\u001b[0m\u001b[0m\n\u001b[1;32m      7\u001b[0m \u001b[0mcolors_array\u001b[0m \u001b[0;34m=\u001b[0m \u001b[0mcm\u001b[0m\u001b[0;34m.\u001b[0m\u001b[0mrainbow\u001b[0m\u001b[0;34m(\u001b[0m\u001b[0mnp\u001b[0m\u001b[0;34m.\u001b[0m\u001b[0mlinspace\u001b[0m\u001b[0;34m(\u001b[0m\u001b[0;36m0\u001b[0m\u001b[0;34m,\u001b[0m \u001b[0;36m1\u001b[0m\u001b[0;34m,\u001b[0m \u001b[0mlen\u001b[0m\u001b[0;34m(\u001b[0m\u001b[0mys\u001b[0m\u001b[0;34m)\u001b[0m\u001b[0;34m)\u001b[0m\u001b[0;34m)\u001b[0m\u001b[0;34m\u001b[0m\u001b[0m\n",
      "\u001b[0;31mNameError\u001b[0m: name 'kclusters' is not defined"
     ]
    }
   ],
   "source": [
    "# create map\n",
    "airports_clusters = folium.Map(location=[51.509865, -0.118092], zoom_start=2)\n",
    "\n",
    "# set color scheme for the clusters\n",
    "x = np.arange(kclusters)\n",
    "ys = [i+x+(i*x)**2 for i in range(kclusters)]\n",
    "colors_array = cm.rainbow(np.linspace(0, 1, len(ys)))\n",
    "rainbow = [colors.rgb2hex(i) for i in colors_array]\n",
    "\n",
    "\n",
    "# add markers to the map\n",
    "for lat, lng, label in zip(my_data['latitude'], my_data['longitude'], my_data['name']):\n",
    "    label = folium.Popup(label, parse_html=True)\n",
    "    folium.CircleMarker(\n",
    "        [lat, lng],\n",
    "        radius=2,\n",
    "        popup=label,\n",
    "        color='grey',\n",
    "        fill=True,\n",
    "        fill_color='grey',\n",
    "        fill_opacity=0.7,).add_to(airports_clusters)\n",
    "    \n",
    "\n",
    "markers_colors = []\n",
    "for lat, lon, poi, cluster in zip(airports_merged_wcluster['latitude'], airports_merged_wcluster['longitude'], airports_merged_wcluster['name'], airports_merged_wcluster['Cluster Label']):\n",
    "    label = folium.Popup(str(poi) + ', Cluster ' + str(cluster), parse_html=True)\n",
    "    folium.CircleMarker(\n",
    "        [lat, lon],\n",
    "        radius=5,\n",
    "        popup=label,\n",
    "        color=rainbow[cluster-1],\n",
    "        fill=True,\n",
    "        fill_color=rainbow[cluster-1],\n",
    "        fill_opacity=1).add_to(airports_clusters)\n",
    " \n",
    "    \n",
    "    # add some info to the map to get an immediate understanding of the approach\n",
    "folium.Marker(\n",
    "    [84, -70],\n",
    "    icon=DivIcon(\n",
    "        icon_size=(600,200),\n",
    "        icon_anchor=(100,0),\n",
    "        html='<div style=\"font-size: 14pt; text-align:center\">Airports clustered based on their restaurant user ratings to get an overview of performance in this area for airport operators</div>')\n",
    "    ).add_to(airports_clusters)\n",
    "\n",
    "airports_clusters"
   ]
  },
  {
   "cell_type": "markdown",
   "metadata": {},
   "source": [
    "#### The analysis shows there is one large cluster and a few that stand out from the crowd. However, a granular \"restaurant analysis\" based on the different  restaurant categories is biased because for some airports there are simply not enough or no rated restaurants."
   ]
  },
  {
   "cell_type": "markdown",
   "metadata": {},
   "source": [
    "#### Therefore, I will refine the approach to give airport operators or restaurant owners an unbiased impression how they rank among the top 50 airports and identify the \"restaurant profile\" for each airport and use it to cluster the airports."
   ]
  },
  {
   "cell_type": "markdown",
   "metadata": {},
   "source": [
    "### 3.2. Restaurant Types"
   ]
  },
  {
   "cell_type": "code",
   "execution_count": null,
   "metadata": {},
   "outputs": [],
   "source": [
    "def getNearbyVenues_explore(names, latitudes, longitudes, radius=8000, LIMIT_to=50, query_term=\"restaurant\"):\n",
    "    \n",
    "    venues_list=[]\n",
    "    for name, lat, lng in zip(names, latitudes, longitudes):\n",
    "        print(name)\n",
    "            \n",
    "        # create the API request URL\n",
    "        url = 'https://api.foursquare.com/v2/venues/explore?&client_id={}&client_secret={}&v={}&ll={},{}&radius={}&limit={}'.format(\n",
    "            CLIENT_ID, \n",
    "            CLIENT_SECRET, \n",
    "            VERSION, \n",
    "            lat, \n",
    "            lng, \n",
    "            radius, \n",
    "            LIMIT)\n",
    "        try:    \n",
    "            # make the GET request\n",
    "            results = requests.get(url).json()[\"response\"]['groups'][0]['items']\n",
    "\n",
    "            # return only relevant information for each nearby venue\n",
    "            venues_list.append([(\n",
    "                name, \n",
    "                lat, \n",
    "                lng, \n",
    "                v['venue']['name'], \n",
    "                v['venue']['location']['lat'], \n",
    "                v['venue']['location']['lng'],  \n",
    "                v['venue']['categories'][0]['name']) for v in results])\n",
    "      \n",
    "        except:\n",
    "            venues_list.append([(\n",
    "            name, \n",
    "            lat, \n",
    "            lng, \n",
    "            0, \n",
    "            0, \n",
    "            0,  \n",
    "            0) for v in results])\n",
    "        \n",
    "\n",
    "    nearby_venues = pd.DataFrame([item for venue_list in venues_list for item in venue_list])\n",
    "    nearby_venues.columns = ['name', \n",
    "                  'Latitude', \n",
    "                  'Longitude', \n",
    "                  'Venue', \n",
    "                  'Venue Latitude', \n",
    "                  'Venue Longitude', \n",
    "                  'Venue Category']\n",
    "    \n",
    "    return(nearby_venues)"
   ]
  },
  {
   "cell_type": "code",
   "execution_count": null,
   "metadata": {},
   "outputs": [],
   "source": [
    "airport_restaurants_full = getNearbyVenues_explore(names=my_data['name'],\n",
    "                                   latitudes=my_data['latitude'],\n",
    "                                   longitudes=my_data['longitude'],\n",
    "                                   radius= 10000,\n",
    "                                   LIMIT_to=50,\n",
    "                                   query_term=\"restaurant\"\n",
    "                                  )"
   ]
  },
  {
   "cell_type": "code",
   "execution_count": null,
   "metadata": {},
   "outputs": [],
   "source": [
    "airport_restaurants_full.head()"
   ]
  },
  {
   "cell_type": "code",
   "execution_count": null,
   "metadata": {},
   "outputs": [],
   "source": [
    "airport_restaurants_full.shape"
   ]
  },
  {
   "cell_type": "code",
   "execution_count": null,
   "metadata": {},
   "outputs": [],
   "source": [
    "len(set(airport_restaurants_full[\"Venue Category\"]))"
   ]
  },
  {
   "cell_type": "code",
   "execution_count": null,
   "metadata": {},
   "outputs": [],
   "source": [
    "# one hot encoding\n",
    "airport_onehot = pd.get_dummies(airport_restaurants_full[['Venue Category']], prefix=\"\", prefix_sep=\"\")\n",
    "\n",
    "# add neighborhood column back to dataframe\n",
    "airport_onehot['name'] = airport_restaurants_full[\"name\"] \n",
    "\n",
    "# move neighborhood column to the first column\n",
    "fixed_columns = [airport_onehot.columns[-1]] + list(airport_onehot.columns[:-1])\n",
    "airport_onehot = airport_onehot[fixed_columns]\n",
    "\n",
    "airport_onehot.head()"
   ]
  },
  {
   "cell_type": "code",
   "execution_count": null,
   "metadata": {},
   "outputs": [],
   "source": [
    "airport_restaurants_grouped = airport_onehot.groupby('name').mean().reset_index()\n",
    "airport_restaurants_grouped.head()"
   ]
  },
  {
   "cell_type": "code",
   "execution_count": null,
   "metadata": {},
   "outputs": [],
   "source": [
    "def return_most_common_venues(row, num_top_venues):\n",
    "    row_categories = row.iloc[1:]\n",
    "    row_categories_sorted = row_categories.sort_values(ascending=False)\n",
    "    \n",
    "    return row_categories_sorted.index.values[0:num_top_venues]"
   ]
  },
  {
   "cell_type": "code",
   "execution_count": null,
   "metadata": {},
   "outputs": [],
   "source": [
    "num_top_venues = 50\n",
    "\n",
    "indicators = ['st', 'nd', 'rd']\n",
    "\n",
    "# create columns according to number of top venues\n",
    "columns = ['name']\n",
    "for ind in np.arange(num_top_venues):\n",
    "    try:\n",
    "        columns.append('{}{} Most Common Venue'.format(ind+1, indicators[ind]))\n",
    "    except:\n",
    "        columns.append('{}th Most Common Venue'.format(ind+1))\n",
    "\n",
    "# create a new dataframe\n",
    "airport_restaurants_sorted = pd.DataFrame(columns=columns)\n",
    "airport_restaurants_sorted['name'] = airport_restaurants_grouped['name']\n",
    "\n",
    "for ind in np.arange(airport_restaurants_grouped.shape[0]):\n",
    "    airport_restaurants_sorted.iloc[ind, 1:] = return_most_common_venues(airport_restaurants_grouped.iloc[ind, :], num_top_venues)\n",
    "\n",
    "airport_restaurants_sorted.head()"
   ]
  },
  {
   "cell_type": "code",
   "execution_count": null,
   "metadata": {},
   "outputs": [],
   "source": [
    "# set number of clusters\n",
    "kclusters = 5\n",
    "\n",
    "airport_restaurants_clustering = airport_restaurants_grouped.drop('name', 1)\n",
    "\n",
    "# run k-means clustering\n",
    "kmeans = KMeans(n_clusters=kclusters, random_state=0).fit(airport_restaurants_clustering)\n",
    "\n",
    "# check cluster labels generated for each row in the dataframe\n",
    "set(kmeans.labels_)"
   ]
  },
  {
   "cell_type": "code",
   "execution_count": null,
   "metadata": {},
   "outputs": [],
   "source": [
    "# add clustering labels\n",
    "my_data_restaurants = my_data.copy()\n",
    "my_data_restaurants['Cluster Labels'] = kmeans.labels_\n",
    "\n",
    "#merge airport data with most frequent venue(restaurant) to add latitude/longitude for each airport\n",
    "\n",
    "my_data_restaurants = my_data_restaurants.join(airport_restaurants_sorted.set_index('name'), on='name')\n",
    "\n",
    "try:\n",
    "    my_data_restaurants = my_data_restaurants.drop(\"rating_mean\", 1)\n",
    "except:\n",
    "    pass\n",
    "my_data_restaurants.head()"
   ]
  },
  {
   "cell_type": "code",
   "execution_count": null,
   "metadata": {},
   "outputs": [],
   "source": [
    "x = np.arange(kclusters)\n",
    "\n",
    "ys = [i+x+(i*x)**2 for i in range(kclusters)]\n",
    "\n",
    "colors_array = cm.rainbow(np.linspace(0, 1, len(ys)))\n",
    "rainbow = [colors.rgb2hex(i) for i in colors_array]"
   ]
  },
  {
   "cell_type": "code",
   "execution_count": null,
   "metadata": {},
   "outputs": [],
   "source": [
    "# create map\n",
    "airport_clusters = folium.Map(location=[51.509865, -0.118092], zoom_start=2)\n",
    "\n",
    "from folium.features import DivIcon\n",
    "\n",
    "# add markers to the map\n",
    "markers_colors = []\n",
    "for lat, lon, poi, cluster in zip(my_data_restaurants['latitude'], my_data_restaurants['longitude'], my_data_restaurants['name'], my_data_restaurants['Cluster Labels']):\n",
    "    label = folium.Popup(str(poi) + ', Cluster ' + str(cluster), parse_html=True)\n",
    "    folium.CircleMarker(\n",
    "        [lat, lon],\n",
    "        radius=5,\n",
    "        popup=label,\n",
    "        color=rainbow[cluster-1],\n",
    "        fill=True,\n",
    "        fill_color=rainbow[cluster-1],\n",
    "        fill_opacity=0.7).add_to(airport_clusters)\n",
    "    \n",
    "# add some info to the map to get an immediate understanding of the approach\n",
    "folium.Marker(\n",
    "    [84, -70],\n",
    "    icon=DivIcon(\n",
    "        icon_size=(600,200),\n",
    "        icon_anchor=(100,0),\n",
    "        html='<div style=\"font-size: 14pt; text-align:center\">Airports clustered based on their restaurant profile to identify gaps for airport operators or restaurants chains / owners</div>')\n",
    "    ).add_to(airport_clusters)\n",
    "\n",
    "airport_clusters"
   ]
  },
  {
   "cell_type": "markdown",
   "metadata": {},
   "source": [
    "### 4. Examine Clusters"
   ]
  },
  {
   "cell_type": "markdown",
   "metadata": {},
   "source": [
    "#### 4.1. Restaurant Quality"
   ]
  },
  {
   "cell_type": "code",
   "execution_count": null,
   "metadata": {},
   "outputs": [],
   "source": [
    "airports_merged_wcluster.loc[airports_merged_wcluster['Cluster Label'] == 0, airports_merged_wcluster.columns[[0] + [2] + list(range(6, airports_merged_wcluster.shape[1]))]].head(10)"
   ]
  },
  {
   "cell_type": "code",
   "execution_count": null,
   "metadata": {},
   "outputs": [],
   "source": [
    "airports_merged_wcluster.loc[airports_merged_wcluster['Cluster Label'] == 1, airports_merged_wcluster.columns[[0] + [2] + list(range(6, airports_merged_wcluster.shape[1]))]].head(10)"
   ]
  },
  {
   "cell_type": "code",
   "execution_count": null,
   "metadata": {},
   "outputs": [],
   "source": [
    "airports_merged_wcluster.loc[airports_merged_wcluster['Cluster Label'] == 2, airports_merged_wcluster.columns[[0] + [2] + list(range(6, airports_merged_wcluster.shape[1]))]].head(10)"
   ]
  },
  {
   "cell_type": "code",
   "execution_count": null,
   "metadata": {},
   "outputs": [],
   "source": [
    "airports_merged_wcluster.loc[airports_merged_wcluster['Cluster Label'] == 3, airports_merged_wcluster.columns[[0] + [2] + list(range(6, airports_merged_wcluster.shape[1]))]].head(10)"
   ]
  },
  {
   "cell_type": "code",
   "execution_count": null,
   "metadata": {},
   "outputs": [],
   "source": [
    "airports_merged_wcluster.loc[airports_merged_wcluster['Cluster Label'] == 4, airports_merged_wcluster.columns[[0] + [2] + list(range(6, airports_merged_wcluster.shape[1]))]].head(10)"
   ]
  },
  {
   "cell_type": "code",
   "execution_count": null,
   "metadata": {},
   "outputs": [],
   "source": [
    "airport_restaurants_stripped.groupby(\"airport_name\").mean().sort_values(by=\"rating\", ascending=False)"
   ]
  },
  {
   "cell_type": "code",
   "execution_count": null,
   "metadata": {},
   "outputs": [],
   "source": [
    "airport_restaurants_stripped.sort_values(by=\"rating\").head()"
   ]
  },
  {
   "cell_type": "markdown",
   "metadata": {},
   "source": [
    "#### 4.2. Restaurant Profile"
   ]
  },
  {
   "cell_type": "code",
   "execution_count": null,
   "metadata": {},
   "outputs": [],
   "source": [
    "def most_often_in_t10(df):\n",
    "    counter_dict2 = {}\n",
    "    for idx, item in enumerate(df.iterrows()):\n",
    "        weight = 10 ## to account for 1st, 2nd, 3rd etc.\n",
    "        for i in range(3,13):\n",
    "            if item[1][i] in counter_dict2:\n",
    "                counter_dict2[item[1][i]] += (1*weight)\n",
    "            else:\n",
    "                counter_dict2[item[1][i]] = (1*weight)\n",
    "            weight -= 1\n",
    "    return round(pd.Series(counter_dict2).sort_values(ascending=False)/len(df), 1).head(15)"
   ]
  },
  {
   "cell_type": "code",
   "execution_count": null,
   "metadata": {},
   "outputs": [],
   "source": [
    "my_data_restaurants.loc[my_data_restaurants['Cluster Labels'] == 0, my_data_restaurants.columns[[0] + [2] + list(range(6, 17))]].head(3)"
   ]
  },
  {
   "cell_type": "code",
   "execution_count": null,
   "metadata": {},
   "outputs": [],
   "source": [
    "len(my_data_restaurants.loc[my_data_restaurants['Cluster Labels'] == 0, my_data_restaurants.columns[[0] + [2] + list(range(6, 17))]])"
   ]
  },
  {
   "cell_type": "code",
   "execution_count": null,
   "metadata": {},
   "outputs": [],
   "source": [
    "most_often_in_t10(my_data_restaurants.loc[my_data_restaurants['Cluster Labels'] == 0, my_data_restaurants.columns[[0] + [2] + list(range(6, 17))]])"
   ]
  },
  {
   "cell_type": "code",
   "execution_count": null,
   "metadata": {},
   "outputs": [],
   "source": [
    "my_data_restaurants.loc[my_data_restaurants['Cluster Labels'] == 1, my_data_restaurants.columns[[0] + [2] + list(range(6, 17))]].head(3)"
   ]
  },
  {
   "cell_type": "code",
   "execution_count": null,
   "metadata": {},
   "outputs": [],
   "source": [
    "len(my_data_restaurants.loc[my_data_restaurants['Cluster Labels'] == 1, my_data_restaurants.columns[[0] + [2] + list(range(6, 17))]])"
   ]
  },
  {
   "cell_type": "code",
   "execution_count": null,
   "metadata": {},
   "outputs": [],
   "source": [
    "most_often_in_t10(my_data_restaurants.loc[my_data_restaurants['Cluster Labels'] == 1, my_data_restaurants.columns[[0] + [2] + list(range(6, 17))]])"
   ]
  },
  {
   "cell_type": "code",
   "execution_count": null,
   "metadata": {},
   "outputs": [],
   "source": [
    "my_data_restaurants.loc[my_data_restaurants['Cluster Labels'] == 2, my_data_restaurants.columns[[0] + [2] + list(range(6, 17))]].head(3)"
   ]
  },
  {
   "cell_type": "code",
   "execution_count": null,
   "metadata": {},
   "outputs": [],
   "source": [
    "len(my_data_restaurants.loc[my_data_restaurants['Cluster Labels'] == 2, my_data_restaurants.columns[[0] + [2] + list(range(6, 17))]])"
   ]
  },
  {
   "cell_type": "code",
   "execution_count": null,
   "metadata": {},
   "outputs": [],
   "source": [
    "most_often_in_t10(my_data_restaurants.loc[my_data_restaurants['Cluster Labels'] == 2, my_data_restaurants.columns[[0] + [2] + list(range(6, 17))]])"
   ]
  },
  {
   "cell_type": "code",
   "execution_count": null,
   "metadata": {},
   "outputs": [],
   "source": [
    "my_data_restaurants.loc[my_data_restaurants['Cluster Labels'] == 3, my_data_restaurants.columns[[0] + [2] + list(range(6, 17))]].head(10)"
   ]
  },
  {
   "cell_type": "code",
   "execution_count": null,
   "metadata": {},
   "outputs": [],
   "source": [
    "len(my_data_restaurants.loc[my_data_restaurants['Cluster Labels'] == 3, my_data_restaurants.columns[[0] + [2] + list(range(6, 17))]])"
   ]
  },
  {
   "cell_type": "code",
   "execution_count": null,
   "metadata": {},
   "outputs": [],
   "source": [
    "most_often_in_t10(my_data_restaurants.loc[my_data_restaurants['Cluster Labels'] == 3, my_data_restaurants.columns[[0] + [2] + list(range(6, 17))]])"
   ]
  },
  {
   "cell_type": "code",
   "execution_count": null,
   "metadata": {},
   "outputs": [],
   "source": [
    "my_data_restaurants.loc[my_data_restaurants['Cluster Labels'] == 4, my_data_restaurants.columns[[0] + [2] + list(range(6, 17))]].head(10)"
   ]
  },
  {
   "cell_type": "code",
   "execution_count": null,
   "metadata": {},
   "outputs": [],
   "source": [
    "len(my_data_restaurants.loc[my_data_restaurants['Cluster Labels'] == 4, my_data_restaurants.columns[[0] + [2] + list(range(6, 17))]])"
   ]
  },
  {
   "cell_type": "code",
   "execution_count": null,
   "metadata": {},
   "outputs": [],
   "source": [
    "most_often_in_t10(my_data_restaurants.loc[my_data_restaurants['Cluster Labels'] == 4, my_data_restaurants.columns[[0] + [2] + list(range(6, 17))]])"
   ]
  },
  {
   "cell_type": "markdown",
   "metadata": {},
   "source": [
    "## 5. Report"
   ]
  },
  {
   "cell_type": "markdown",
   "metadata": {},
   "source": [
    "### 5.1 Introduction"
   ]
  },
  {
   "cell_type": "markdown",
   "metadata": {},
   "source": [
    "While flying becomes a commodity, passenger traffic rises and ever more people spent time at and around big airports the business opportunities at airports are still large. Apart from internal transport infrastruce, connecting public transport, new amenities such as sleep pods, sports etc also restaurants are stil a great opportunity to differentiate. \n",
    "\n",
    "The data analysis undertaken here is important for airport operators as a means to compare themselves with other top airports across the world but also for restaurant chains and owners to identify coverage gaps or shortfalls in high quality restaurants at certain airports. This analysis can support the optimization of an airports restaurant portfolio or help deciding on where to open a new restaurant and, importantly, in which category (e.g. shushi, fastfood, german).\n",
    "\n",
    "The following analysis will provide a starting point to do this by looking at the 50 airports with the largest passenger turnover per year and compare them based on what restaurants are available and how restaurants were rated by passengers. The restaurant and rating data is supplied by foursquare, the airport location data is supplied by https://openflights.org/data.html and the data for the passenger traffic comes from Wikipedia (https://en.wikipedia.org/wiki/List_of_busiest_airports_by_passenger_traffic). \n",
    "\n",
    "Thus, we have three data sources:\n",
    "    1. airport location data\n",
    "    2. airport passenger traffic\n",
    "    3. Data from the foursquare API to retrieve the different restaurants at each airport and their rating and category"
   ]
  },
  {
   "cell_type": "markdown",
   "metadata": {},
   "source": [
    "### 5.2 Methodology"
   ]
  },
  {
   "cell_type": "markdown",
   "metadata": {},
   "source": [
    "Firstly, the airport location data is merged with the airport passenger traffic data to generate a consistent data set of the top 50 airports and their respective locations.\n",
    "Afterwards, this data is being visualized on a world map to identify which parts and cities of the world are represented and in what proportion.\n",
    "The location of each airport, precisely the center of each airport, is now being used to retrieve data about restaurants in a radius of 10 kilometres, which is reasonable given the size of the respective airports. Here two different approaches are utilized:\n",
    "\n",
    "    1. Retrieve all restaurants, their category and their ratings to measure the quality each airport has with regard to restaurants\n",
    "    \n",
    "    2. Retrieve popular restaurants and their category to measure the profile and coverage of diffenerent restaurant categories\n",
    "\n",
    "In the first approach at first all restaurants in the 10km radius are being retrieved with the foursquare \"search\"-API. Afterwards this data is enriched with the ratings using the \"venue\"-API from foursquare. Only the restaurants with ratings are kept. \n",
    "After transforming the data an unsupervised machine learning technique is used to cluster the airports based on their similarity. Here the partitioning k-Means clustering algorithm is used. In order to answer the question at hand 5 clusters were chosen.\n",
    "\n",
    "This algorithm was chosen because the idea is to find those airports that strongly differ from the majority, hence finding small clusters.\n",
    "With respect to this approach, evaluating the quality of each airport, this must mean that airports in those \"small\" clusters perform either better than the rest or worse. Of course this holds only true under the assumption of a normal distribution respectively that the majority of airports perform average. This will be further evaluated in the results section.\n",
    "\n",
    "Then, the data is being visualized to identify similar and distinct airport clusters.\n",
    "Finally, those cluster are being examined on a high level by looking at which restaurant categories are rated best (and worst) to make recommendations for airport operators and restaurant owners what is working well at some airports but is not at others.\n",
    "\n",
    "In the second approach, again restaurants in the 10km radius are being retrieved but this time with the foursquare \"explore\"-API which delivers the popular restaurant at each airport. Now this data is being transformed to identify which restaurant categories are highly represented at the respective airport and which are not. Then, the same partitioning clustering algorithm is used as in the first approach and the different clusters are being visualized on a map to find out similarities and differences between airports. Again, 5 clusters were chosen.\n",
    "\n",
    "The partitioning cluster algorithm is chosen for similar reasons as in approach one. The difference here is that we want to find unique restaurant portfolios which are interesting to look at in comparison to the majority (small vs. large clusters).\n",
    "\n",
    "Finally, those clusters are being examined on a high level by looking at the top 10 restaurant categories and how often they occur per cluster(results are weighted by amount of airports per cluster)."
   ]
  },
  {
   "cell_type": "markdown",
   "metadata": {},
   "source": [
    "### 5.3 Results"
   ]
  },
  {
   "cell_type": "markdown",
   "metadata": {},
   "source": [
    "Since two different approaches to answer the question of where an airport ranges when it comes to restaurants or where there might be potential at this airport to open up a new restaurant in a specific category also the results for those two approaches are different.\n",
    "\n",
    "Unfortunately, the results for evaluating the quality of restaurants by looking at user ratings are biased since there is just not enough data, respectively for some airports only a few or none of the restaurants were rated. Moreover, not for all restaurant categories data was available. In addition, the \"venue\"-API only permits only 500 calls per day with a standard account and even then it is very slow which makes it pretty difficult to work with. Given that, even if more data were available, collecting only 10 ratings per airport would still not account for a comprehensive analysis.\n",
    "Still, for 19 airports 326 rated venues were found and the clustering shows that 2 airports are quite unique (L.A. and JFK), there is one cluster with two airports and two bigger clusters. Especially, how the three small clusters compare to the bigger ones is of interest and can be find out by looking at the rating score and which restaurant categories were rated best.\n",
    "\n",
    "Since approach number two only relied on the \"explore\"-API of foursquare which permits 95000 calls per day and data was readily available the results are much more useful and insightful. \n",
    "For the 50 airports 4645 restaurants or venues that contain a restaurant (such as hotels) in 379 different restaurant categories were used to cluster the airports. The assumption that many airports will be rather similar to each other and consequently are clustered together was right. Only 2 clusters comprise of 43 airports while the other 7 are split up in three different clusters.\n",
    "This makes it particularly interesting to find out how they differentiate from the majority."
   ]
  },
  {
   "cell_type": "markdown",
   "metadata": {},
   "source": [
    "### 5.4 Discussion"
   ]
  },
  {
   "cell_type": "markdown",
   "metadata": {},
   "source": [
    "The first part of the analysis tackles the restaurant quality. In order to make any recommendations for retaurants owners it is of particular interest to look at airports with average or bad ratings. \n",
    "This corresponds to a \"red ocean strategy\" where you try to push out existing competitors. This could be targeted at a single restaurant category with a weak rating e.g. Café's or American Restaurant's at Shanghai Pudong International Airport or Thai Restaurants at Suvarnabhumi Airport.It could also be targeted at an airport that in provides an average restaurant offering in general and it seems like airports such as Guangzhou Baiyun International Airport, Kuala Lumpur and Beijing Capital are worth looking at.\n",
    "\n",
    "The second part of the analysis tackles the restaurant profile. In order to make any recommendations for retaurants owners it is of particular interest to look at airports with categories that are either not or only sparsely filled. This would correspond to a \"blue ocean strategy\" because it is about trying to occupy a spot with no one else has taken yet.\n",
    "Especially in Cluster 0 but also in 1,2 and 3 it seems pretty unadvisable to open up a new coffee shop because there are plenty of them already while in Cluster 4 they are somewhat underrepresented compared to the others. Depending on where a restaurant owner or airport operator is located many more details could be derived from the analysis to have a starting point where new business opportunities are."
   ]
  },
  {
   "cell_type": "markdown",
   "metadata": {},
   "source": [
    "### 5.5 Conclusion"
   ]
  },
  {
   "cell_type": "markdown",
   "metadata": {},
   "source": [
    "In this report airports where clustered based on the quality of their restaurants and based on the availability of restaurants in the different restaurant categories.Airport operators and restaurant owners alike can draw valuable insights from the provided analysis and get a starting point of where to look for new business opportunities.\n",
    "\n",
    "Additionally, in line with the analysis a tool was developed that can easily serve to do the same analysis of the quality and/or profile of airports not just for restaurants but also for e.g. hotels, retail, IT or sports offerings by simply adjusting the query term of the location data provider foursquare. \n",
    "\n",
    "This analysis is highly dependent on the data quality of the location data provider. Therefore, it is advisable to incorporate other location data providers such as Google Places and merge the data to achieve a consistent analysis."
   ]
  }
 ],
 "metadata": {
  "kernelspec": {
   "display_name": "Python 3",
   "language": "python",
   "name": "python3"
  },
  "language_info": {
   "codemirror_mode": {
    "name": "ipython",
    "version": 3
   },
   "file_extension": ".py",
   "mimetype": "text/x-python",
   "name": "python",
   "nbconvert_exporter": "python",
   "pygments_lexer": "ipython3",
   "version": "3.6.4"
  }
 },
 "nbformat": 4,
 "nbformat_minor": 2
}
